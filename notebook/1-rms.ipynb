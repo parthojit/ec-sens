{
 "cells": [
  {
   "cell_type": "code",
   "execution_count": 1,
   "id": "939af848-c389-419c-ae6b-c4c840a252fd",
   "metadata": {},
   "outputs": [],
   "source": [
    "import json\n",
    "import matplotlib.pyplot as plt"
   ]
  },
  {
   "cell_type": "code",
   "execution_count": 2,
   "id": "29371540-8d46-4839-9bd0-c7dbc12d7458",
   "metadata": {},
   "outputs": [],
   "source": [
    "def barplot(conc:int,sample:str):\n",
    "    ms = [\"m1\", \"m2\", \"m3\", \"m4\", \"m5\", \"m6\", \"m7\", \"m8\"]\n",
    "    CONC = str(conc)\n",
    "    sample = sample\n",
    "\n",
    "    scores = []\n",
    "    for m in ms:\n",
    "          FILENAME = \"../orms/scores/\" + m + \"/\" + CONC + \"_\" + sample + \".json\"\n",
    "          with open(FILENAME) as f:\n",
    "            data = json.load(f)\n",
    "            scores.append(data['score1'])\n",
    "          # print(data['score1'],data['score2'])\n",
    "    plt.bar(ms,scores)\n",
    "    return scores"
   ]
  },
  {
   "cell_type": "code",
   "execution_count": 3,
   "id": "3f4fee81-bdea-4f1b-9668-7a0b070a919a",
   "metadata": {},
   "outputs": [
    {
     "data": {
      "text/plain": [
       "Text(0.5, 1.0, 's3 = n-propanol')"
      ]
     },
     "execution_count": 3,
     "metadata": {},
     "output_type": "execute_result"
    },
    {
     "data": {
      "image/png": "[encoded data removed]",
      "text/plain": [
       "<Figure size 432x288 with 1 Axes>"
      ]
     },
     "metadata": {
      "needs_background": "light"
     },
     "output_type": "display_data"
    }
   ],
   "source": [
    "s3_100 = barplot(conc=100,sample=\"s3\")\n",
    "s3_50 = barplot(conc=50,sample=\"s3\")\n",
    "plt.title(\"s3 = n-propanol\")"
   ]
  },
  {
   "cell_type": "code",
   "execution_count": 4,
   "id": "f8317f75-030c-464f-90ac-d81b7b0bae48",
   "metadata": {},
   "outputs": [
    {
     "data": {
      "text/plain": [
       "Text(0.5, 1.0, 's4 = i-propanol')"
      ]
     },
     "execution_count": 4,
     "metadata": {},
     "output_type": "execute_result"
    },
    {
     "data": {
      "image/png": "[encoded data removed]",
      "text/plain": [
       "<Figure size 432x288 with 1 Axes>"
      ]
     },
     "metadata": {
      "needs_background": "light"
     },
     "output_type": "display_data"
    }
   ],
   "source": [
    "s4_100 = barplot(conc=100,sample=\"s4\")\n",
    "s4_50 = barplot(conc=50,sample=\"s4\")\n",
    "plt.title(\"s4 = i-propanol\")"
   ]
  },
  {
   "cell_type": "code",
   "execution_count": null,
   "id": "d04eb976-99bf-4a3d-90f6-bf6579ff1ca4",
   "metadata": {},
   "outputs": [],
   "source": []
  },
  {
   "cell_type": "code",
   "execution_count": null,
   "id": "c09bd9c9-12bf-4d80-9374-960b41aa6386",
   "metadata": {},
   "outputs": [],
   "source": []
  },
  {
   "cell_type": "code",
   "execution_count": null,
   "id": "0bc0d7c6-b285-4706-8cf8-93d4761cf659",
   "metadata": {},
   "outputs": [],
   "source": []
  }
 ],
 "metadata": {
  "kernelspec": {
   "display_name": "Python 3 (ipykernel)",
   "language": "python",
   "name": "python3"
  },
  "language_info": {
   "codemirror_mode": {
    "name": "ipython",
    "version": 3
   },
   "file_extension": ".py",
   "mimetype": "text/x-python",
   "name": "python",
   "nbconvert_exporter": "python",
   "pygments_lexer": "ipython3",
   "version": "3.8.2"
  }
 },
 "nbformat": 4,
 "nbformat_minor": 5
}
